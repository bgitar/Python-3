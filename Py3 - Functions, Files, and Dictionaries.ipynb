{
 "cells": [
  {
   "cell_type": "code",
   "execution_count": null,
   "metadata": {},
   "outputs": [],
   "source": [
    "#######################################################################################################################\n",
    "#\n",
    "#\n",
    "#\n",
    "# Week 1 - files and CSV\n",
    "#\n",
    "#\n",
    "#\n",
    "#######################################################################################################################"
   ]
  },
  {
   "cell_type": "code",
   "execution_count": null,
   "metadata": {},
   "outputs": [],
   "source": [
    "#The textfile, travel_plans.txt, contains the summer travel plans for someone with some commentary. \n",
    "#Find the total number of characters in the file and save to the variable num.\n",
    "\n",
    "travel_plans = open(\"travel_plans.txt\", 'r')\n",
    "lines = travel_plans.read()\n",
    "num = len(lines)\n",
    "print(num)"
   ]
  },
  {
   "cell_type": "code",
   "execution_count": null,
   "metadata": {},
   "outputs": [],
   "source": [
    "#We have provided a file called emotion_words.txt that contains lines of words that describe emotions. \n",
    "#Find the total number of words in the file and assign this value to the variable num_words.\n",
    "\n",
    "num_words = 0        \n",
    "\n",
    "with open(\"emotion_words.txt\", 'r') as emotions_file:\n",
    "    for line in emotions_file:\n",
    "        words = line.split()\n",
    "        num_words += len(words)\n",
    "print(num_words)  "
   ]
  },
  {
   "cell_type": "code",
   "execution_count": null,
   "metadata": {},
   "outputs": [],
   "source": [
    "#Assign to the variable num_lines the number of lines in the file school_prompt.txt.\n",
    "\n",
    "num_lines = 0\n",
    "\n",
    "with open(\"school_prompt.txt\", 'r') as school_file:\n",
    "    for line in school_file:\n",
    "        num_lines += 1\n",
    "print(num_lines)  "
   ]
  },
  {
   "cell_type": "code",
   "execution_count": null,
   "metadata": {},
   "outputs": [],
   "source": [
    "#Assign the first 30 characters of school_prompt.txt as a string to the variable beginning_chars.\n",
    "\n",
    "with open(\"school_prompt.txt\", 'r') as school_file:\n",
    "    beginning_chars = (school_file.read()[:30])\n",
    "print(beginning_chars)   "
   ]
  },
  {
   "cell_type": "code",
   "execution_count": null,
   "metadata": {},
   "outputs": [],
   "source": [
    "#Challenge: Using the file school_prompt.txt, assign the third word of every line to a list called three.\n",
    "\n",
    "three = []\n",
    "\n",
    "with open(\"school_prompt.txt\", 'r') as school_file:\n",
    "    three = [line.split()[2] for line in school_file]\n",
    "    print(three)   "
   ]
  },
  {
   "cell_type": "code",
   "execution_count": null,
   "metadata": {},
   "outputs": [],
   "source": [
    "#Challenge: Create a list called emotions that contains the first word of every line in emotion_words.txt.\n",
    "\n",
    "emotions = []\n",
    "\n",
    "emotion_file = open('emotion_words.txt', 'r')\n",
    "lines = emotion_file.readlines()\n",
    "\n",
    "for line in lines:\n",
    "    a = line.split()\n",
    "    emotions.append(a[0])\n",
    "print(emotions) "
   ]
  },
  {
   "cell_type": "code",
   "execution_count": null,
   "metadata": {},
   "outputs": [],
   "source": [
    "#Assign the first 33 characters from the textfile, travel_plans.txt to the variable first_chars.\n",
    "\n",
    "travel_file = open('travel_plans.txt', 'r')\n",
    "first_chars = (travel_file.read()[:33])\n",
    "print(first_chars)"
   ]
  },
  {
   "cell_type": "code",
   "execution_count": null,
   "metadata": {},
   "outputs": [],
   "source": [
    "#Challenge: Using the file school_prompt.txt, if the character ‘p’ is in a word, then add the word to a list called p_words.\n",
    "\n",
    "p_words = []\n",
    "\n",
    "school_file = open('school_prompt.txt', 'r')\n",
    "words = school_file.read().split()\n",
    "#print(words)\n",
    "\n",
    "for word in words:\n",
    "    if 'p' in word:\n",
    "        p_words.append(word)       \n",
    "print(p_words)"
   ]
  },
  {
   "cell_type": "code",
   "execution_count": null,
   "metadata": {},
   "outputs": [],
   "source": [
    "#######################################################################################################################\n",
    "#\n",
    "#\n",
    "#\n",
    "# Week 2 - Dictionaries\n",
    "#\n",
    "#\n",
    "#\n",
    "#######################################################################################################################"
   ]
  },
  {
   "cell_type": "code",
   "execution_count": null,
   "metadata": {},
   "outputs": [],
   "source": [
    "#Dictionary Methods Assesment\n",
    "\n",
    "#At the halfway point during the Rio Olympics, the United States had 70 medals, \n",
    "#Great Britain had 38 medals, China had 45 medals, Russia had 30 medals, and Germany had 17 medals. \n",
    "#Create a dictionary assigned to the variable medal_count with the country names as the keys and \n",
    "#the number of medals the country had as each key’s value.\n",
    "\n",
    "medal_count = {'United States': 70, 'Great Britain': 38, 'China': 45, 'Russia': 30, 'Germany': 17}\n"
   ]
  },
  {
   "cell_type": "code",
   "execution_count": null,
   "metadata": {},
   "outputs": [],
   "source": [
    "#Given the dictionary swimmers, add an additional key-value pair to the dictionary with \"Phelps\" as the key and the integer 23 as the value. \n",
    "#Do not rewrite the entire dictionary.\n",
    "\n",
    "swimmers = {'Manuel':4, 'Lochte':12, 'Adrian':7, 'Ledecky':5, 'Dirado':4}\n",
    "swimmers['Phelps'] = 23"
   ]
  },
  {
   "cell_type": "code",
   "execution_count": null,
   "metadata": {},
   "outputs": [],
   "source": [
    "#Add the string “hockey” as a key to the dictionary sports_periods and assign it the value of 3. \n",
    "#Do not rewrite the entire dictionary.\n",
    "\n",
    "sports_periods = {'baseball': 9, 'basketball': 4, 'soccer': 4, 'cricket': 2}\n",
    "sports_periods['hockey'] = 3"
   ]
  },
  {
   "cell_type": "code",
   "execution_count": null,
   "metadata": {},
   "outputs": [],
   "source": [
    "#The dictionary golds contains information about how many gold medals each country won in the 2016 Olympics. \n",
    "#But today, Spain won 2 more gold medals. Update golds to reflect this information.\n",
    "\n",
    "golds = {\"Italy\": 12, \"USA\": 33, \"Brazil\": 15, \"China\": 27, \"Spain\": 19, \"Canada\": 22, \"Argentina\": 8, \"England\": 29}\n",
    "golds[\"Spain\"] = golds[\"Spain\"] + 2"
   ]
  },
  {
   "cell_type": "code",
   "execution_count": null,
   "metadata": {},
   "outputs": [],
   "source": [
    "#Create a list of the countries that are in the dictionary golds, and assign that list to the variable name countries. \n",
    "#Do not hard code this.\n",
    "\n",
    "golds = {\"Italy\": 12, \"USA\": 33, \"Brazil\": 15, \"China\": 27, \"Spain\": 19, \"Canada\": 22, \"Argentina\": 8, \"England\": 29}\n",
    "countries = []\n",
    "\n",
    "for key in golds:\n",
    "    countries.append(key)\n",
    "print(countries)  "
   ]
  },
  {
   "cell_type": "code",
   "execution_count": null,
   "metadata": {},
   "outputs": [],
   "source": [
    "#Provided is the dictionary, medal_count, which lists countries and their respective medal count at the halfway point in the 2016 Rio Olympics. \n",
    "#Using dictionary mechanics, assign the medal count value for \"Belarus\" to the variable belarus. \n",
    "#Do not hardcode this.\n",
    "\n",
    "medal_count = {'United States': 70, 'Great Britain':38, 'China':45, 'Russia':30, 'Germany':17, 'Italy':22, 'France': 22, 'Japan':26, 'Australia':22, 'South Korea':14, 'Hungary':12, 'Netherlands':10, 'Spain':5, 'New Zealand':8, 'Canada':13, 'Kazakhstan':8, 'Colombia':4, 'Switzerland':5, 'Belgium':4, 'Thailand':4, 'Croatia':3, 'Iran':3, 'Jamaica':3, 'South Africa':7, 'Sweden':6, 'Denmark':7, 'North Korea':6, 'Kenya':4, 'Brazil':7, 'Belarus':4, 'Cuba':5, 'Poland':4, 'Romania':4, 'Slovenia':3, 'Argentina':2, 'Bahrain':2, 'Slovakia':2, 'Vietnam':2, 'Czech Republic':6, 'Uzbekistan':5}\n",
    "belarus = medal_count['Belarus']"
   ]
  },
  {
   "cell_type": "code",
   "execution_count": null,
   "metadata": {},
   "outputs": [],
   "source": [
    "#The dictionary total_golds contains the total number of gold medals that countries have won over the course of history. \n",
    "#Use dictionary mechanics to find the number of golds Chile has won, and assign that number to the variable name chile_golds. \n",
    "#Do not hard code this!\n",
    "\n",
    "total_golds = {\"Italy\": 114, \"Germany\": 782, \"Pakistan\": 10, \"Sweden\": 627, \"USA\": 2681, \"Zimbabwe\": 8, \"Greece\": 111, \"Mongolia\": 24, \"Brazil\": 108, \"Croatia\": 34, \"Algeria\": 15, \"Switzerland\": 323, \"Yugoslavia\": 87, \"China\": 526, \"Egypt\": 26, \"Norway\": 477, \"Spain\": 133, \"Australia\": 480, \"Slovakia\": 29, \"Canada\": 22, \"New Zealand\": 100, \"Denmark\": 180, \"Chile\": 13, \"Argentina\": 70, \"Thailand\": 24, \"Cuba\": 209, \"Uganda\": 7,  \"England\": 806, \"Denmark\": 180, \"Ukraine\": 122, \"Bahamas\": 12}\n",
    "chile_golds = total_golds.get(\"Chile\")"
   ]
  },
  {
   "cell_type": "code",
   "execution_count": null,
   "metadata": {},
   "outputs": [],
   "source": [
    "#Provided is a dictionary called US_medals which has the first 70 metals that the United States has won in 2016, and in which category they have won it in. \n",
    "#Using dictionary mechanics, assign the value of the key \"Fencing\" to a variable fencing_value. \n",
    "#Remember, do not hard code this.\n",
    "\n",
    "US_medals = {\"Swimming\": 33, \"Gymnastics\": 6, \"Track & Field\": 6, \"Tennis\": 3, \"Judo\": 2, \"Rowing\": 2, \"Shooting\": 3, \"Cycling - Road\": 1, \"Fencing\": 4, \"Diving\": 2, \"Archery\": 2, \"Cycling - Track\": 1, \"Equestrian\": 2, \"Golf\": 1, \"Weightlifting\": 1}\n",
    "fencing_value = US_medals.get(\"Fencing\")"
   ]
  },
  {
   "cell_type": "code",
   "execution_count": null,
   "metadata": {},
   "outputs": [],
   "source": [
    "#Dictionary accumulation patterns\n",
    "\n",
    "#The dictionary Junior shows a schedule for a junior year semester. \n",
    "#The key is the course name and the value is the number of credits. \n",
    "#Find the total number of credits taken this semester and assign it to the variable credits. \n",
    "#Do not hardcode this – use dictionary accumulation!\n",
    "\n",
    "Junior = {'SI 206':4, 'SI 310':4, 'BL 300':3, 'TO 313':3, 'BCOM 350':1, 'MO 300':3}\n",
    "credits = 0\n",
    "\n",
    "for val in Junior.values():\n",
    "    credits += val\n",
    "print(credits)"
   ]
  },
  {
   "cell_type": "code",
   "execution_count": null,
   "metadata": {},
   "outputs": [],
   "source": [
    "#Create a dictionary, freq, that displays each character in string str1 as the key and its frequency as the value.\n",
    "\n",
    "str1 = \"peter piper picked a peck of pickled peppers\"\n",
    "freq = {}\n",
    "\n",
    "for c in str1:\n",
    "    if c not in freq:\n",
    "        freq[c] = 0\n",
    "    freq[c] = freq[c] + 1\n",
    "    \n",
    "print(freq)"
   ]
  },
  {
   "cell_type": "code",
   "execution_count": null,
   "metadata": {},
   "outputs": [],
   "source": [
    "#Provided is a string saved to the variable name s1. Create a dictionary named counts that contains each letter in s1 and the number of times it occurs.\n",
    "\n",
    "s1 = \"hello\"\n",
    "counts = {}\n",
    "\n",
    "for c in s1:\n",
    "    if c not in counts:\n",
    "        counts[c] = 0\n",
    "    counts[c] = counts[c] + 1\n",
    "print(counts)   "
   ]
  },
  {
   "cell_type": "code",
   "execution_count": null,
   "metadata": {},
   "outputs": [],
   "source": [
    "#Create a dictionary, freq_words, that contains each word in string str1 as the key and its frequency as the value.\n",
    "\n",
    "str1 = \"I wish I wish with all my heart to fly with dragons in a land apart\"\n",
    "freq_words = {}\n",
    "words = str1.split()\n",
    "\n",
    "for word in words:\n",
    "    if word not in freq_words:\n",
    "        freq_words[word] = 0\n",
    "    freq_words[word] += 1\n",
    "print(freq_words)"
   ]
  },
  {
   "cell_type": "code",
   "execution_count": null,
   "metadata": {},
   "outputs": [],
   "source": [
    "#Create a dictionary called wrd_d from the string sent, so that the key is a word and the value is how many times you have seen that word.\n",
    "\n",
    "sent = \"Singing in the rain and playing in the rain are two entirely different situations but both can be good\"\n",
    "wrd_d = {}\n",
    "words = sent.split()\n",
    "\n",
    "for word in words:\n",
    "    if word not in wrd_d:\n",
    "        wrd_d[word] = 0\n",
    "    wrd_d[word] += 1\n",
    "print(wrd_d)"
   ]
  },
  {
   "cell_type": "code",
   "execution_count": null,
   "metadata": {},
   "outputs": [],
   "source": [
    "#Create the dictionary characters that shows each character from the string sally and its frequency. \n",
    "#Then, find the most frequent letter based on the dictionary. Assign this letter to the variable best_char.\n",
    "\n",
    "sally = \"sally sells sea shells by the sea shore\"\n",
    "characters = {}\n",
    "\n",
    "for c in sally:\n",
    "    if c not in characters:\n",
    "        characters[c] = 0\n",
    "    characters[c] += 1\n",
    "    \n",
    "keys = list(characters.keys())\n",
    "best_char = keys[0]\n",
    "\n",
    "for key in keys:\n",
    "    if characters[key] > characters[best_char]:\n",
    "        best_char = key\n",
    "print(best_char)   "
   ]
  },
  {
   "cell_type": "code",
   "execution_count": null,
   "metadata": {},
   "outputs": [],
   "source": [
    "#Find the least frequent letter. \n",
    "#Create the dictionary characters that shows each character from string sally and its frequency. \n",
    "#Then, find the least frequent letter in the string and assign the letter to the variable worst_char.\n",
    "\n",
    "sally = \"sally sells sea shells by the sea shore and by the road\"\n",
    "characters = {}\n",
    "\n",
    "for c in sally:\n",
    "    if c not in characters:\n",
    "        characters[c] = 0\n",
    "    characters[c] += 1\n",
    "\n",
    "keys = list(characters.keys())\n",
    "worst_char = keys[0]\n",
    "\n",
    "for key in keys:\n",
    "    if characters[key] < characters[worst_char]:\n",
    "        worst_char = key\n",
    "print(worst_char)"
   ]
  },
  {
   "cell_type": "code",
   "execution_count": null,
   "metadata": {},
   "outputs": [],
   "source": [
    "#Create a dictionary named letter_counts that contains each letter and the number of times it occurs in string1. \n",
    "#Challenge: Letters should not be counted separately as upper-case and lower-case. \n",
    "#Intead, all of them should be counted as lower-case.\n",
    "\n",
    "string1 = \"There is a tide in the affairs of men, Which taken at the flood, leads on to fortune. Omitted, all the voyage of their life is bound in shallows and in miseries. On such a full sea are we now afloat. And we must take the current when it serves, or lose our ventures.\"\n",
    "string_lower = string1.lower()\n",
    "#print(string_lower)\n",
    "\n",
    "letter_counts = {}\n",
    "\n",
    "for c in string_lower:\n",
    "    if c not in letter_counts:\n",
    "        letter_counts[c] = 0\n",
    "    letter_counts[c] += 1\n",
    "\n",
    "print(letter_counts)"
   ]
  },
  {
   "cell_type": "code",
   "execution_count": null,
   "metadata": {},
   "outputs": [],
   "source": [
    "#Create a dictionary called low_d that keeps track of all the characters in the string p and notes how many times each character was seen. \n",
    "#Make sure that there are no repeats of characters as keys, such that “T” and “t” are both seen as a “t” for example.\n",
    "\n",
    "p = \"Summer is a great time to go outside. You have to be careful of the sun though because of the heat.\"\n",
    "p_low = p.lower()\n",
    "low_d = {}\n",
    "\n",
    "for c in p_low:\n",
    "    if c not in low_d:\n",
    "        low_d[c] = 0\n",
    "    low_d[c] += 1\n",
    "print(low_d)"
   ]
  },
  {
   "cell_type": "code",
   "execution_count": null,
   "metadata": {},
   "outputs": [],
   "source": [
    "#######################################################################################################################\n",
    "#\n",
    "#\n",
    "#\n",
    "# Week 3 - Functions\n",
    "#\n",
    "#\n",
    "#\n",
    "#######################################################################################################################"
   ]
  },
  {
   "cell_type": "code",
   "execution_count": null,
   "metadata": {},
   "outputs": [],
   "source": [
    "#Write a function called int_return that takes an integer as input and returns the same integer.\n",
    "\n",
    "def int_return(x):\n",
    "    return x"
   ]
  },
  {
   "cell_type": "code",
   "execution_count": null,
   "metadata": {},
   "outputs": [],
   "source": [
    "#Write a function called add that takes any number as its input and returns that sum with 2 added.\n",
    "\n",
    "def add(x):\n",
    "    return x + 2"
   ]
  },
  {
   "cell_type": "code",
   "execution_count": null,
   "metadata": {},
   "outputs": [],
   "source": [
    "#Write a function called change that takes any string, adds “Nice to meet you!” to the end of the argument given, and returns that new string.\n",
    "\n",
    "def change(str):\n",
    "    return str + \"Nice to meet you!\""
   ]
  },
  {
   "cell_type": "code",
   "execution_count": null,
   "metadata": {},
   "outputs": [],
   "source": [
    "#Write a function, accum, that takes a list of integers as input and returns the sum of those integers.\n",
    "\n",
    "def accum(int_lst):\n",
    "    sum = 0\n",
    "    for int in int_lst:\n",
    "        sum = sum + int\n",
    "    return sum"
   ]
  },
  {
   "cell_type": "code",
   "execution_count": null,
   "metadata": {},
   "outputs": [],
   "source": [
    "#Write a function, length, that takes in a list as the input. \n",
    "#If the length of the list is greater than or equal to 5, return “Longer than 5”. If the length is less than 5, return “Less than 5”.\n",
    "\n",
    "def length(lst):\n",
    "    if len(lst) >= 5:\n",
    "        return \"Longer than 5\"\n",
    "    return \"Less than 5\""
   ]
  },
  {
   "cell_type": "code",
   "execution_count": null,
   "metadata": {},
   "outputs": [],
   "source": [
    "#You will need to write two functions for this problem. \n",
    "#The first function, divide that takes in any number and returns that same number divided by 2. \n",
    "#The second function called sum should take any number, divide it by 2, and add 6. \n",
    "#It should return this new number. You should call the divide function within the sum function. \n",
    "#Do not worry about decimals.\n",
    "\n",
    "def divide(n):\n",
    "    return n / 2\n",
    "\n",
    "def sum(x):\n",
    "    return divide(x) + 6"
   ]
  },
  {
   "cell_type": "code",
   "execution_count": null,
   "metadata": {},
   "outputs": [],
   "source": [
    "#######################################################################################################################\n",
    "#\n",
    "#\n",
    "#\n",
    "# Week 3 - Tuples\n",
    "#\n",
    "#\n",
    "#\n",
    "#######################################################################################################################"
   ]
  },
  {
   "cell_type": "code",
   "execution_count": null,
   "metadata": {},
   "outputs": [],
   "source": [
    "#Create a tuple called olympics with four elements: “Beijing”, “London”, “Rio”, “Tokyo”.\n",
    "\n",
    "olympics = \"Beijing\", \"London\", \"Rio\", \"Tokyo\""
   ]
  },
  {
   "cell_type": "code",
   "execution_count": null,
   "metadata": {},
   "outputs": [],
   "source": [
    "#The list below, tuples_lst, is a list of tuples. \n",
    "#Create a list of the second elements of each tuple and assign this list to the variable country.\n",
    "\n",
    "tuples_lst = [('Beijing', 'China', 2008), ('London', 'England', 2012), ('Rio', 'Brazil', 2016, 'Current'), ('Tokyo', 'Japan', 2020, 'Future')]\n",
    "country = []\n",
    "\n",
    "for cntry in tuples_lst:\n",
    "    country.append(cntry[1])"
   ]
  },
  {
   "cell_type": "code",
   "execution_count": null,
   "metadata": {},
   "outputs": [],
   "source": [
    "#With only one line of code, assign the variables city, country, and year to the values of the tuple olymp.\n",
    "\n",
    "olymp = ('Rio', 'Brazil', 2016)\n",
    "city, country, year = olymp"
   ]
  },
  {
   "cell_type": "code",
   "execution_count": null,
   "metadata": {},
   "outputs": [],
   "source": [
    "#Define a function called info with five parameters: name, gender, age, bday_month, and hometown. \n",
    "#The function should then return a tuple with all five parameters in that order.\n",
    "\n",
    "def info(name, gender, age, bday_month, hometown):\n",
    "    return name, gender, age, bday_month, hometown"
   ]
  },
  {
   "cell_type": "code",
   "execution_count": null,
   "metadata": {},
   "outputs": [],
   "source": [
    "#Given is the dictionary, gold, which shows the country and the number of gold medals they have earned so far in the 2016 Olympics. \n",
    "#Create a list, num_medals, that contains only the number of medals for each country. \n",
    "#You must use the .items() method. Note: The .items() method provides a list of tuples. Do not use .keys() method.\n",
    "\n",
    "gold = {'USA':31, 'Great Britain':19, 'China':19, 'Germany':13, 'Russia':12, 'Japan':10, 'France':8, 'Italy':8}\n",
    "num_medals = []\n",
    "\n",
    "for contry, medals in gold.items():\n",
    "    num_medals.append(medals)"
   ]
  },
  {
   "cell_type": "code",
   "execution_count": null,
   "metadata": {},
   "outputs": [],
   "source": [
    "#######################################################################################################################\n",
    "#\n",
    "#\n",
    "#\n",
    "# Week 4 while statement\n",
    "#\n",
    "#\n",
    "#\n",
    "#######################################################################################################################"
   ]
  },
  {
   "cell_type": "code",
   "execution_count": null,
   "metadata": {},
   "outputs": [],
   "source": [
    "#Write a function, sublist, that takes in a list of numbers as the parameter. \n",
    "#In the function, use a while loop to return a sublist of the input list. \n",
    "#The sublist should contain the same values of the original list up until it reaches the number 5 (\n",
    "#it should not contain the number 5).\n",
    "\n",
    "def sublist(nums):\n",
    "    num_list=[]\n",
    "    i=0\n",
    "    while i < len(nums):\n",
    "        if nums[i] == 5:\n",
    "            break\n",
    "        num_list.append(nums[i])\n",
    "        i=i+1\n",
    "    return num_list\n",
    "sublist([1,2,3,4,5])"
   ]
  },
  {
   "cell_type": "code",
   "execution_count": null,
   "metadata": {},
   "outputs": [],
   "source": [
    "#Write a function called check_nums that takes a list as its parameter, and contains a while loop that only stops once the element of the list is the number 7. \n",
    "#What is returned is a list of all of the numbers up until it reaches 7.\n",
    "\n",
    "def check_nums(lst):\n",
    "    new_lst = []\n",
    "    i = 0\n",
    "    while i < len(lst):\n",
    "        if lst[i] == 7:\n",
    "            break\n",
    "        new_lst.append(lst[i])\n",
    "        i = i + 1\n",
    "    return new_lst"
   ]
  },
  {
   "cell_type": "code",
   "execution_count": null,
   "metadata": {},
   "outputs": [],
   "source": [
    "#Write a function, sublist, that takes in a list of strings as the parameter. \n",
    "#In the function, use a while loop to return a sublist of the input list. \n",
    "#The sublist should contain the same values of the original list up until it reaches the string “STOP” (it should not contain the string “STOP”).\n",
    "\n",
    "def sublist(str):\n",
    "    new_lst = []\n",
    "    i = 0\n",
    "    while i < len(str):\n",
    "        if str[i] == \"STOP\":\n",
    "            break\n",
    "        new_lst.append(str[i])\n",
    "        i += 1\n",
    "    return new_lst"
   ]
  },
  {
   "cell_type": "code",
   "execution_count": null,
   "metadata": {},
   "outputs": [],
   "source": [
    "#Write a function called stop_at_z that iterates through a list of strings. \n",
    "#Using a while loop, append each string to a new list until the string that appears is “z”. \n",
    "#The function should return the new list.\n",
    "\n",
    "def stop_at_z(str):\n",
    "    new_lst = []\n",
    "    i = 0\n",
    "    while i < len(str):\n",
    "        if str[i] == \"z\":\n",
    "            break\n",
    "        new_lst.append(str[i])\n",
    "        i += 1\n",
    "    return new_lst"
   ]
  },
  {
   "cell_type": "code",
   "execution_count": null,
   "metadata": {},
   "outputs": [],
   "source": [
    "#Below is a for loop that works. Underneath the for loop, rewrite the problem so that it does the same thing, but using a while loop instead of a for loop. \n",
    "#Assign the accumulated total in the while loop code to the variable sum2. Once complete, sum2 should equal sum1.\n",
    "\n",
    "\n",
    "sum1 = 0\n",
    "\n",
    "lst = [65, 78, 21, 33]\n",
    "\n",
    "for x in lst:\n",
    "    sum1 = sum1 + x\n",
    "\n",
    "sum2 = 0\n",
    "i = 0\n",
    "\n",
    "while i < len(lst):\n",
    "    sum2 += lst[i]\n",
    "    i += 1\n",
    "    \n",
    "print(sum1, sum2)"
   ]
  },
  {
   "cell_type": "code",
   "execution_count": null,
   "metadata": {},
   "outputs": [],
   "source": [
    "#Challenge: Write a function called beginning that takes a list as input and contains a while loop that only stops once the element of the list is the string ‘bye’. \n",
    "#What is returned is a list that contains up to the first 10 strings, regardless of where the loop stops. \n",
    "#(i.e., if it stops on the 32nd element, the first 10 are returned. \n",
    "#If “bye” is the 5th element, the first 4 are returned.) \n",
    "#If you want to make this even more of a challenge, do this without slicing\n",
    "\n",
    "def beginning(lst):\n",
    "    i = 0\n",
    "    new_lst = []\n",
    "    while i < len(lst):\n",
    "        if lst[i] == \"bye\":\n",
    "            break\n",
    "        elif len(new_lst) >= 10:\n",
    "            break\n",
    "        new_lst.append(lst[i])\n",
    "        i += 1\n",
    "    return new_lst"
   ]
  },
  {
   "cell_type": "code",
   "execution_count": 1,
   "metadata": {},
   "outputs": [],
   "source": [
    "#######################################################################################################################\n",
    "#\n",
    "#\n",
    "#\n",
    "# Week 4 -  Advanced Functions\n",
    "#\n",
    "#\n",
    "#\n",
    "#######################################################################################################################"
   ]
  },
  {
   "cell_type": "code",
   "execution_count": null,
   "metadata": {},
   "outputs": [],
   "source": [
    "#Create a function called mult that has two parameters, the first is required and should be an integer, \n",
    "#the second is an optional parameter that can either be a number or a string but whose default is 6. \n",
    "#The function should return the first parameter multiplied by the second.\n",
    "\n",
    "def mult(x, y = 6):\n",
    "    return x * y"
   ]
  },
  {
   "cell_type": "code",
   "execution_count": null,
   "metadata": {},
   "outputs": [],
   "source": [
    "#The following function, greeting, does not work. \n",
    "#Please fix the code so that it runs without error. This only requires one change in the definition of the function.\n",
    "\n",
    "#Make name the first parameter passed to the function\n",
    "\n",
    "def greeting(name, greeting=\"Hello \", excl=\"!\"):\n",
    "    return greeting + name + excl\n",
    "\n",
    "print(greeting(\"Bob\"))\n",
    "print(greeting(\"\"))\n",
    "print(greeting(\"Bob\", excl=\"!!!\"))"
   ]
  },
  {
   "cell_type": "code",
   "execution_count": null,
   "metadata": {},
   "outputs": [],
   "source": [
    "#Below is a function, sum, that does not work. Change the function definition so the code works. \n",
    "#The function should still have a required parameter, intx, and an optional parameter, intz with a defualt value of 5.\n",
    "\n",
    "#make intx the first parameter\n",
    "\n",
    "def sum(intx, intz=5):\n",
    "    return intz + intx"
   ]
  },
  {
   "cell_type": "code",
   "execution_count": null,
   "metadata": {},
   "outputs": [],
   "source": [
    "#Write a function, test, that takes in three parameters: \n",
    "#a required integer, an optional boolean whose default value is True, and an optional dictionary, \n",
    "#called dict1, whose default value is {2:3, 4:5, 6:8}. \n",
    "#If the boolean parameter is True, the function should test to see if the integer is a key in the dictionary. \n",
    "#The value of that key should then be returned. If the boolean parameter is False, return the boolean value “False”.\n",
    "\n",
    "def test(int1, b = True, dict1 = {2:3, 4:5, 6:8}):\n",
    "    if b == True:\n",
    "        if int1 in dict1:\n",
    "            return dict1[int1]\n",
    "    elif b == False:\n",
    "        return False\n"
   ]
  },
  {
   "cell_type": "code",
   "execution_count": null,
   "metadata": {},
   "outputs": [],
   "source": [
    "#Write a function called checkingIfIn that takes three parameters. \n",
    "#The first is a required parameter, which should be a string. \n",
    "#The second is an optional parameter called direction with a default value of True. \n",
    "#The third is an optional parameter called d that has a default value of {'apple': 2, 'pear': 1, 'fruit': 19, 'orange': 5, 'banana': 3, 'grapes': 2, 'watermelon': 7}. \n",
    "#Write the function checkingIfIn so that when the second parameter is True, it checks to see if the first parameter is a key in the third parameter; \n",
    "#if it is, return True, otherwise return False.\n",
    "#But if the second paramter is False, then the function should check to see if the first parameter is not a key of the third. \n",
    "#If it’s not, the function should return True in this case, and if it is, it should return False.\n",
    "\n",
    "def checkingIfIn (str1, direction = True, d = {'apple': 2, 'pear': 1, 'fruit': 19, 'orange': 5, 'banana': 3, 'grapes': 2, 'watermelon': 7}):\n",
    "    if direction == True:\n",
    "        if str1 in d:\n",
    "            return True\n",
    "        else:\n",
    "            return False\n",
    "    elif direction == False:\n",
    "        if str1 not in d:\n",
    "            return True\n",
    "        else:\n",
    "            return False"
   ]
  },
  {
   "cell_type": "code",
   "execution_count": null,
   "metadata": {},
   "outputs": [],
   "source": [
    "#We have provided the function checkingIfIn such that if the first input parameter is in the third, dictionary, \n",
    "#input parameter, then the function returns that value, and otherwise, it returns False. \n",
    "#Follow the instructions in the active code window for specific variable assignmemts.\n",
    "\n",
    "def checkingIfIn(a, direction = True, d = {'apple': 2, 'pear': 1, 'fruit': 19, 'orange': 5, 'banana': 3, 'grapes': 2, 'watermelon': 7}):\n",
    "    if direction == True:\n",
    "        if a in d:\n",
    "            return d[a]\n",
    "        else:\n",
    "            return False\n",
    "    else:\n",
    "        if a not in d:\n",
    "            return True\n",
    "        else:\n",
    "            return d[a]\n",
    "\n",
    "# Call the function so that it returns False and assign that function call to the variable c_false\n",
    "c_false = checkingIfIn(\"Ice cream\")\n",
    "# Call the fucntion so that it returns True and assign it to the variable c_true\n",
    "c_true = checkingIfIn(\"Pizza\", direction = False)\n",
    "# Call the function so that the value of fruit is assigned to the variable fruit_ans\n",
    "fruit_ans = checkingIfIn(\"fruit\")\n",
    "# Call the function using the first and third parameter so that the value 8 is assigned to the variable param_check\n",
    "param_check = checkingIfIn(\"mcnuggets\", direction = False , d = {'Big Macs': 2, 'mcnuggets': 8, 'fries': 4, 'hot cakes': 29000})\n"
   ]
  },
  {
   "cell_type": "code",
   "execution_count": null,
   "metadata": {},
   "outputs": [],
   "source": [
    "#######################################################################################################################\n",
    "#\n",
    "#\n",
    "#\n",
    "# Week 5 - Sorting Basics\n",
    "#\n",
    "#\n",
    "#\n",
    "########################################################################################################################"
   ]
  },
  {
   "cell_type": "code",
   "execution_count": null,
   "metadata": {},
   "outputs": [],
   "source": [
    "#Sort the following string alphabetically, from z to a, and assign it to the variable sorted_letters.\n",
    "\n",
    "letters = \"alwnfiwaksuezlaeiajsdl\"\n",
    "sorted_letters = sorted(letters, reverse=True)"
   ]
  },
  {
   "cell_type": "code",
   "execution_count": null,
   "metadata": {},
   "outputs": [],
   "source": [
    "#Sort the list below, animals, into alphabetical order, a-z. Save the new list as animals_sorted.\n",
    "\n",
    "animals = ['elephant', 'cat', 'moose', 'antelope', 'elk', 'rabbit', 'zebra', 'yak', 'salamander', 'deer', 'otter', 'minx', 'giraffe', 'goat', 'cow', 'tiger', 'bear']\n",
    "animals_sorted = sorted(animals)"
   ]
  },
  {
   "cell_type": "code",
   "execution_count": null,
   "metadata": {},
   "outputs": [],
   "source": [
    "#The dictionary, medals, shows the medal count for six countries during the Rio Olympics. \n",
    "#Sort the country names so they appear alphabetically. Save this list to the variable alphabetical.\n",
    "\n",
    "medals = {'Japan':41, 'Russia':56, 'South Korea':21, 'United States':121, 'Germany':42, 'China':70}\n",
    "alphabetical = sorted(medals)"
   ]
  },
  {
   "cell_type": "code",
   "execution_count": null,
   "metadata": {},
   "outputs": [],
   "source": [
    "#Given the same dictionary, medals, now sort by the medal count. \n",
    "#Save the three countries with the highest medal count to the list, top_three.\n",
    "\n",
    "medals = {'Japan':41, 'Russia':56, 'South Korea':21, 'United States':121, 'Germany':42, 'China':70}\n",
    "\n",
    "sorted_medals = sorted(medals.keys(), key=lambda k: medals[k], reverse=True)\n",
    "top_three = sorted_medals[0:3]\n",
    "print(top_three)"
   ]
  },
  {
   "cell_type": "code",
   "execution_count": null,
   "metadata": {},
   "outputs": [],
   "source": [
    "#We have provided the dictionary groceries. \n",
    "#You should return a list of its keys, but they should be sorted by their values, from highest to lowest. \n",
    "#Save the new list as most_needed.\n",
    "\n",
    "groceries = {'apples': 5, 'pasta': 3, 'carrots': 12, 'orange juice': 2, 'bananas': 8, 'popcorn': 1, 'salsa': 3, 'cereal': 4, 'coffee': 5, 'granola bars': 15, 'onions': 7, 'rice': 1, 'peanut butter': 2, 'spinach': 9}\n",
    "most_needed = sorted(groceries.keys(), key=lambda k: groceries[k], reverse=True)\n"
   ]
  },
  {
   "cell_type": "code",
   "execution_count": null,
   "metadata": {},
   "outputs": [],
   "source": [
    "#Create a function called last_four that takes in an ID number and returns the last four digits. \n",
    "#For example, the number 17573005 should return 3005. \n",
    "#Then, use this function to sort the list of ids stored in the variable, ids, from lowest to highest. \n",
    "#Save this sorted list in the variable, sorted_ids. Hint: Remember that only strings can be indexed, so conversions may be needed.\n",
    "\n",
    "def last_four(x):\n",
    "    str_x = str(x)\n",
    "    return str_x[-4:]\n",
    "\n",
    "ids = [17573005, 17572342, 17579000, 17570002, 17572345, 17579329]\n",
    "sorted_ids = sorted(ids, key=last_four)"
   ]
  },
  {
   "cell_type": "code",
   "execution_count": null,
   "metadata": {},
   "outputs": [],
   "source": [
    "#Sort the list ids by the last four digits of each id. Do this using lambda and not using a defined function. \n",
    "#Save this sorted list in the variable sorted_id.\n",
    "\n",
    "ids = [17573005, 17572342, 17579000, 17570002, 17572345, 17579329]\n",
    "\n",
    "def last_four(x):\n",
    "    str_x = str(x)\n",
    "    return str_x[-4:]\n",
    "\n",
    "sorted_id = sorted(ids, key=lambda id: last_four(id))\n",
    "print(sorted_id)"
   ]
  },
  {
   "cell_type": "code",
   "execution_count": null,
   "metadata": {},
   "outputs": [],
   "source": [
    "#Sort the following list by each element’s second letter a to z. Do so by using lambda. \n",
    "#Assign the resulting value to the variable lambda_sort.\n",
    "\n",
    "ex_lst = ['hi', 'how are you', 'bye', 'apple', 'zebra', 'dance']\n",
    "lambda_sort = sorted(ex_lst, key=lambda word: word[1])\n",
    "print(lambda_sort)"
   ]
  },
  {
   "cell_type": "code",
   "execution_count": null,
   "metadata": {},
   "outputs": [],
   "source": [
    "#######################################################################################################################\n",
    "#\n",
    "#\n",
    "#\n",
    "# Course 2 Project\n",
    "#\n",
    "#\n",
    "#\n",
    "#######################################################################################################################"
   ]
  },
  {
   "cell_type": "code",
   "execution_count": null,
   "metadata": {},
   "outputs": [],
   "source": [
    "'''We have provided some synthetic (fake, semi-randomly generated) twitter data in a csv file named project_twitter_data.csv which has the text of a tweet, the number of retweets of that tweet, and the number of replies to that tweet. We have also words that express positive sentiment and negative sentiment, in the files positive_words.txt and negative_words.txt.\n",
    "\n",
    "Your task is to build a sentiment classifier, which will detect how positive or negative each tweet is. You will create a csv file, which contains columns for the Number of Retweets, Number of Replies, Positive Score (which is how many happy words are in the tweet), Negative Score (which is how many angry words are in the tweet), and the Net Score for each tweet. At the end, you upload the csv file to Excel or Google Sheets, and produce a graph of the Net Score vs Number of Retweets.\n",
    "\n",
    "To start, define a function called strip_punctuation which takes one parameter, a string which represents a word, and removes characters considered punctuation from everywhere in the word. (Hint: remember the .replace() method for strings.)'''\n",
    "\n",
    "def strip_punctuation(str1):\n",
    "    punctuation_chars = [\"'\", '\"', \",\", \".\", \"!\", \":\", \";\", '#', '@']\n",
    "    for char in punctuation_chars:\n",
    "        str1 = str1.replace(char, '')\n",
    "    return str1"
   ]
  },
  {
   "cell_type": "code",
   "execution_count": null,
   "metadata": {},
   "outputs": [],
   "source": [
    "'''Next, copy in your strip_punctuation function and define a function called get_pos which takes one parameter, a string which represents one or more sentences, \n",
    "and calculates how many words in the string are considered positive words. \n",
    "Use the list, positive_words to determine what words will count as positive. \n",
    "The function should return a positive integer - how many occurrences there are of positive words in the text. \n",
    "Note that all of the words in positive_words are lower cased, so you’ll need to convert all the words in the input string to lower case as well.'''\n",
    "\n",
    "def strip_punctuation(str1):\n",
    "    punctuation_chars = [\"'\", '\"', \",\", \".\", \"!\", \":\", \";\", '#', '@']\n",
    "    for char in punctuation_chars:\n",
    "        str1 = str1.replace(char, '')\n",
    "    return str1\n",
    "\n",
    "punctuation_chars = [\"'\", '\"', \",\", \".\", \"!\", \":\", \";\", '#', '@']\n",
    "# list of positive words to use\n",
    "positive_words = []\n",
    "with open(\"positive_words.txt\") as pos_f:\n",
    "    for lin in pos_f:\n",
    "        if lin[0] != ';' and lin[0] != '\\n':\n",
    "            positive_words.append(lin.strip())\n",
    "\n",
    "def get_pos(str_pos):\n",
    "    str_pos_lower = str_pos.lower()\n",
    "    str_pos_punc = strip_punctuation(str_pos_lower)\n",
    "    str_pos_split = str_pos_punc.split()\n",
    "    \n",
    "    pos_cnt = 0\n",
    "    for word in str_pos_split:\n",
    "        if word in positive_words:\n",
    "            pos_cnt += 1\n",
    "    return pos_cnt"
   ]
  },
  {
   "cell_type": "code",
   "execution_count": null,
   "metadata": {},
   "outputs": [],
   "source": [
    "'''Next, copy in your strip_punctuation function and define a function called get_neg which takes one parameter, \n",
    "a string which represents one or more sentences, and calculates how many words in the string are considered negative words. \n",
    "Use the list, negative_words to determine what words will count as negative. \n",
    "The function should return a positive integer - how many occurrences there are of negative words in the text. \n",
    "Note that all of the words in negative_words are lower cased, so you’ll need to convert all the words in the input string to lower case as well.'''\n",
    "\n",
    "def strip_punctuation(str1):\n",
    "    punctuation_chars = [\"'\", '\"', \",\", \".\", \"!\", \":\", \";\", '#', '@']\n",
    "    for char in punctuation_chars:\n",
    "        str1 = str1.replace(char, '')\n",
    "    return str1\n",
    "\n",
    "punctuation_chars = [\"'\", '\"', \",\", \".\", \"!\", \":\", \";\", '#', '@']\n",
    "\n",
    "negative_words = []\n",
    "with open(\"negative_words.txt\") as pos_f:\n",
    "    for lin in pos_f:\n",
    "        if lin[0] != ';' and lin[0] != '\\n':\n",
    "            negative_words.append(lin.strip())\n",
    "\n",
    "def get_neg(str_neg):\n",
    "    str_neg_lower = str_neg.lower()\n",
    "    str_neg_punc = strip_punctuation(str_neg_lower)\n",
    "    str_neg_split = str_neg_punc.split()\n",
    "    \n",
    "    neg_cnt = 0\n",
    "    for word in str_neg_split:\n",
    "        if word in negative_words:\n",
    "            neg_cnt += 1\n",
    "    return neg_cnt"
   ]
  },
  {
   "cell_type": "code",
   "execution_count": 2,
   "metadata": {},
   "outputs": [
    {
     "ename": "FileNotFoundError",
     "evalue": "[Errno 2] No such file or directory: 'positive_words.txt'",
     "output_type": "error",
     "traceback": [
      "\u001b[1;31m---------------------------------------------------------------------------\u001b[0m",
      "\u001b[1;31mFileNotFoundError\u001b[0m                         Traceback (most recent call last)",
      "\u001b[1;32m<ipython-input-2-8fe6e8c60a39>\u001b[0m in \u001b[0;36m<module>\u001b[1;34m\u001b[0m\n\u001b[0;32m     40\u001b[0m \u001b[1;31m# lists of words to use\u001b[0m\u001b[1;33m\u001b[0m\u001b[1;33m\u001b[0m\u001b[1;33m\u001b[0m\u001b[0m\n\u001b[0;32m     41\u001b[0m \u001b[0mpositive_words\u001b[0m \u001b[1;33m=\u001b[0m \u001b[1;33m[\u001b[0m\u001b[1;33m]\u001b[0m\u001b[1;33m\u001b[0m\u001b[1;33m\u001b[0m\u001b[0m\n\u001b[1;32m---> 42\u001b[1;33m \u001b[1;32mwith\u001b[0m \u001b[0mopen\u001b[0m\u001b[1;33m(\u001b[0m\u001b[1;34m\"positive_words.txt\"\u001b[0m\u001b[1;33m)\u001b[0m \u001b[1;32mas\u001b[0m \u001b[0mpos_f\u001b[0m\u001b[1;33m:\u001b[0m\u001b[1;33m\u001b[0m\u001b[1;33m\u001b[0m\u001b[0m\n\u001b[0m\u001b[0;32m     43\u001b[0m     \u001b[1;32mfor\u001b[0m \u001b[0mlin\u001b[0m \u001b[1;32min\u001b[0m \u001b[0mpos_f\u001b[0m\u001b[1;33m:\u001b[0m\u001b[1;33m\u001b[0m\u001b[1;33m\u001b[0m\u001b[0m\n\u001b[0;32m     44\u001b[0m         \u001b[1;32mif\u001b[0m \u001b[0mlin\u001b[0m\u001b[1;33m[\u001b[0m\u001b[1;36m0\u001b[0m\u001b[1;33m]\u001b[0m \u001b[1;33m!=\u001b[0m \u001b[1;34m';'\u001b[0m \u001b[1;32mand\u001b[0m \u001b[0mlin\u001b[0m\u001b[1;33m[\u001b[0m\u001b[1;36m0\u001b[0m\u001b[1;33m]\u001b[0m \u001b[1;33m!=\u001b[0m \u001b[1;34m'\\n'\u001b[0m\u001b[1;33m:\u001b[0m\u001b[1;33m\u001b[0m\u001b[1;33m\u001b[0m\u001b[0m\n",
      "\u001b[1;31mFileNotFoundError\u001b[0m: [Errno 2] No such file or directory: 'positive_words.txt'"
     ]
    }
   ],
   "source": [
    "'''Finally, copy in your previous functions and write code that opens the file project_twitter_data.csv \n",
    "which has the fake generated twitter data (the text of a tweet, the number of retweets of that tweet, \n",
    "and the number of replies to that tweet). Your task is to build a sentiment classifier, which will detect how positive\n",
    "or negative each tweet is. Copy the code from the code windows above, and put that in the top of this code window. \n",
    "Now, you will write code to create a csv file called resulting_data.csv, which contains the Number of Retweets, \n",
    "Number of Replies, Positive Score (which is how many happy words are in the tweet), Negative Score (which is how \n",
    "many angry words are in the tweet), and the Net Score (how positive or negative the text is overall) for each tweet. \n",
    "The file should have those headers in that order. Remember that there is another component to this project. \n",
    "You will upload the csv file to Excel or Google Sheets and produce a graph of the Net Score vs Number of Retweets. \n",
    "Check Coursera for that portion of the assignment, if you’re accessing this textbook from Coursera.'''\n",
    "\n",
    "def strip_punctuation(str1):\n",
    "    punctuation_chars = [\"'\", '\"', \",\", \".\", \"!\", \":\", \";\", '#', '@']\n",
    "    for char in punctuation_chars:\n",
    "        str1 = str1.replace(char, '')\n",
    "    return str1\n",
    "\n",
    "def get_pos(str_pos):\n",
    "    str_pos_lower = str_pos.lower()\n",
    "    str_pos_punc = strip_punctuation(str_pos_lower)\n",
    "    str_pos_split = str_pos_punc.split()\n",
    "    \n",
    "    pos_cnt = 0\n",
    "    for word in str_pos_split:\n",
    "        if word in positive_words:\n",
    "            pos_cnt += 1\n",
    "    return pos_cnt\n",
    "\n",
    "def get_neg(str_neg):\n",
    "    str_neg_lower = str_neg.lower()\n",
    "    str_neg_punc = strip_punctuation(str_neg_lower)\n",
    "    str_neg_split = str_neg_punc.split()\n",
    "    \n",
    "    neg_cnt = 0\n",
    "    for word in str_neg_split:\n",
    "        if word in negative_words:\n",
    "            neg_cnt += 1\n",
    "    return neg_cnt\n",
    "punctuation_chars = [\"'\", '\"', \",\", \".\", \"!\", \":\", \";\", '#', '@']\n",
    "# lists of words to use\n",
    "positive_words = []\n",
    "with open(\"positive_words.txt\") as pos_f:\n",
    "    for lin in pos_f:\n",
    "        if lin[0] != ';' and lin[0] != '\\n':\n",
    "            positive_words.append(lin.strip())\n",
    "\n",
    "\n",
    "negative_words = []\n",
    "with open(\"negative_words.txt\") as pos_f:\n",
    "    for lin in pos_f:\n",
    "        if lin[0] != ';' and lin[0] != '\\n':\n",
    "            negative_words.append(lin.strip())\n",
    "\n",
    "\n",
    "#open twitter file\n",
    "fileref=open(\"project_twitter_data.csv\",\"r\")\n",
    "tweets = fileref.readlines()\n",
    "print(tweets) #check out how tweets are formatted\n",
    "\n",
    "#Write tweets to csv file\n",
    "outfile=open(\"resulting_data.csv\",\"w\")\n",
    "outfile.write(\"Number of Retweets, Number of Replies, Positive Score, Negative Score, Net Score\")\n",
    "outfile.write(\"\\n\")\n",
    "\n",
    "for tweet in tweets[1:]:\n",
    "    tweet_data = \"\"\n",
    "    clean_tweet=tweet.strip().split(\",\")\n",
    "    #print(clean_tweet)\n",
    "    tweet_data = (\"{},{},{},{},{}\".format(clean_tweet[1], clean_tweet[2], get_pos(clean_tweet[0]), get_neg(clean_tweet), (get_pos(clean_tweet)-get_neg(clean_tweet))))\n",
    "    outfile.write(tweet_data)\n",
    "    outfile.write(\"\\n\")\n",
    "\n",
    "outfile.close()"
   ]
  },
  {
   "cell_type": "code",
   "execution_count": 15,
   "metadata": {},
   "outputs": [
    {
     "data": {
      "text/plain": [
       "Text(0.5, 1.0, 'Twitter Sentiment Analysis: Net Score by Number of Retweets')"
      ]
     },
     "execution_count": 15,
     "metadata": {},
     "output_type": "execute_result"
    },
    {
     "data": {
      "image/png": "[encoded data removed]",
      "text/plain": [
       "<Figure size 1152x576 with 1 Axes>"
      ]
     },
     "metadata": {
      "needs_background": "light"
     },
     "output_type": "display_data"
    }
   ],
   "source": [
    "#Peer-graded Assignment: Project - Part 2: Sentiment Analysis\n",
    "#make scatterplot of resulting_csv showing net score and number of retweets. \n",
    "\n",
    "import pandas as pd\n",
    "import seaborn as sns\n",
    "import matplotlib.pyplot as plt\n",
    "df=pd.read_csv(r\"C:\\Users\\BRG4142\\Desktop\\Py3 Specialization\\resulting_csv.csv\")\n",
    "plt.figure(figsize=(16, 8))\n",
    "sns.scatterplot(data=df, x=\"Net Score\", y=\"Number of Retweets\", s=91)\n",
    "plt.xlabel(\"Net Score\", size=20)\n",
    "plt.ylabel(\"Number of Retweets\", size=20)\n",
    "plt.title(\"Twitter Sentiment Analysis: Net Score by Number of Retweets\", size=24)\n"
   ]
  },
  {
   "cell_type": "code",
   "execution_count": null,
   "metadata": {},
   "outputs": [],
   "source": []
  }
 ],
 "metadata": {
  "kernelspec": {
   "display_name": "Python 3",
   "language": "python",
   "name": "python3"
  },
  "language_info": {
   "codemirror_mode": {
    "name": "ipython",
    "version": 3
   },
   "file_extension": ".py",
   "mimetype": "text/x-python",
   "name": "python",
   "nbconvert_exporter": "python",
   "pygments_lexer": "ipython3",
   "version": "3.7.3"
  }
 },
 "nbformat": 4,
 "nbformat_minor": 2
}
