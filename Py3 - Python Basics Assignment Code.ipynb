{
 "cells": [
  {
   "cell_type": "code",
   "execution_count": 1,
   "metadata": {},
   "outputs": [],
   "source": [
    "#####################################################################################################################\n",
    "#\n",
    "#\n",
    "#\n",
    "# Week 2\n",
    "#\n",
    "#\n",
    "#\n",
    "#####################################################################################################################"
   ]
  },
  {
   "cell_type": "code",
   "execution_count": 2,
   "metadata": {},
   "outputs": [
    {
     "name": "stdout",
     "output_type": "stream",
     "text": [
      "pzpzpzpzpz\n"
     ]
    }
   ],
   "source": [
    "#python 3 specialization graded tools\n",
    "#week 2\n",
    "let = \"z\"\n",
    "let_two = \"p\"\n",
    "c = let_two + let\n",
    "m = c*5\n",
    "print(m)"
   ]
  },
  {
   "cell_type": "code",
   "execution_count": 3,
   "metadata": {},
   "outputs": [
    {
     "name": "stdout",
     "output_type": "stream",
     "text": [
      "M\n",
      "I\n",
      "C\n",
      "H\n",
      "I\n",
      "G\n",
      "A\n",
      "N\n"
     ]
    }
   ],
   "source": [
    "#Write one for loop to print out each character of the string my_str on a separate line.\n",
    "my_str = \"MICHIGAN\"\n",
    "\n",
    "for chr in my_str:\n",
    "    print(chr)"
   ]
  },
  {
   "cell_type": "code",
   "execution_count": 4,
   "metadata": {},
   "outputs": [
    {
     "name": "stdout",
     "output_type": "stream",
     "text": [
      "hello\n",
      "2\n",
      "4\n",
      "6.0\n",
      "7.5\n",
      "234352354\n",
      "the end\n",
      "\n",
      "99\n",
      "<class 'str'>\n",
      "<class 'int'>\n",
      "<class 'int'>\n",
      "<class 'float'>\n",
      "<class 'float'>\n",
      "<class 'int'>\n",
      "<class 'str'>\n",
      "<class 'str'>\n",
      "<class 'int'>\n"
     ]
    }
   ],
   "source": [
    "#Write one for loop to print out each element of the list several_things. \n",
    "#Then, write another for loop to print out the TYPE of each element of the list several_things. \n",
    "#To complete this problem you should have written two different for loops, \n",
    "#each of which iterates over the list several_things, but each of those 2 for loops should have a different result.\n",
    "\n",
    "several_things = [\"hello\", 2, 4, 6.0, 7.5, 234352354, \"the end\", \"\", 99]\n",
    "\n",
    "for thing in several_things:\n",
    "    print(thing)\n",
    "    \n",
    "for thing in several_things:\n",
    "    print(type(thing))"
   ]
  },
  {
   "cell_type": "code",
   "execution_count": 5,
   "metadata": {},
   "outputs": [
    {
     "name": "stdout",
     "output_type": "stream",
     "text": [
      "57\n"
     ]
    }
   ],
   "source": [
    "#Write code to count the number of characters in original_str using the accumulation pattern \n",
    "#and assign the answer to a variable num_chars. \n",
    "#Do NOT use the len function to solve the problem \n",
    "#(if you use it while you are working on this problem, comment it out afterward!)\n",
    "\n",
    "original_str = \"The quick brown rhino jumped over the extremely lazy fox.\"\n",
    "num_chars = 0\n",
    "\n",
    "for word in original_str:\n",
    "    num_chars = num_chars + 1\n",
    "print(num_chars)   "
   ]
  },
  {
   "cell_type": "code",
   "execution_count": 6,
   "metadata": {},
   "outputs": [
    {
     "name": "stdout",
     "output_type": "stream",
     "text": [
      "37\n"
     ]
    }
   ],
   "source": [
    "#addition_str is a string with a list of numbers separated by the + sign. \n",
    "#Write code that uses the accumulation pattern to take the sum of all of the numbers and assigns it to sum_val (an integer).\n",
    "#(You should use the .split(\"+\") function to split by \"+\" and int() to cast to an integer).\n",
    "\n",
    "addition_str = \"2+5+10+20\"\n",
    "addition_str = addition_str.split(\"+\")\n",
    "#print(addition_str)\n",
    "\n",
    "sum_val = 0\n",
    "\n",
    "for num in addition_str:\n",
    "    sum_val = sum_val + int(num)\n",
    "print(sum_val)"
   ]
  },
  {
   "cell_type": "code",
   "execution_count": 7,
   "metadata": {},
   "outputs": [
    {
     "name": "stdout",
     "output_type": "stream",
     "text": [
      "Average temperature: 80.67142857142858\n"
     ]
    }
   ],
   "source": [
    "#week_temps_f is a string with a list of fahrenheit temperatures separated by the , sign. \n",
    "#Write code that uses the accumulation pattern to compute the average (sum divided by number of items) and assigns it to avg_temp. \n",
    "#Do not hard code your answer (i.e., make your code compute both the sum or the number of items in week_temps_f) \n",
    "#(You should use the .split(\",\") function to split by \",\" and float() to cast to a float).\n",
    "\n",
    "week_temps_f = \"75.1,77.7,83.2,82.5,81.0,79.5,85.7\"\n",
    "week_temps_f = week_temps_f.split(\",\")\n",
    "\n",
    "temps = 0\n",
    "\n",
    "for temp in week_temps_f:\n",
    "    temps = temps + float(temp)\n",
    "#print(temps)    \n",
    "#print(len(week_temps_f))\n",
    "\n",
    "avg_temp = temps / len(week_temps_f)\n",
    "print(\"Average temperature:\", avg_temp)"
   ]
  },
  {
   "cell_type": "code",
   "execution_count": 8,
   "metadata": {},
   "outputs": [
    {
     "name": "stdout",
     "output_type": "stream",
     "text": [
      "[0, 1, 2, 3, 4, 5, 6, 7, 8, 9, 10, 11, 12, 13, 14, 15, 16, 17, 18, 19, 20, 21, 22, 23, 24, 25, 26, 27, 28, 29, 30, 31, 32, 33, 34, 35, 36, 37, 38, 39, 40, 41, 42, 43, 44, 45, 46, 47, 48, 49, 50, 51, 52, 53, 54, 55, 56, 57, 58, 59, 60, 61, 62, 63, 64, 65, 66, 67]\n"
     ]
    }
   ],
   "source": [
    "#Write code to create a list of numbers from 0 to 67 and assign that list to the variable nums. Do not hard code the list.\n",
    "\n",
    "nums = [0]\n",
    "for n in range(67):\n",
    "    x = n + 1\n",
    "    nums.append(x)\n",
    "print(nums)"
   ]
  },
  {
   "cell_type": "code",
   "execution_count": 9,
   "metadata": {},
   "outputs": [
    {
     "name": "stdout",
     "output_type": "stream",
     "text": [
      "['The', 'quick', 'brown', 'rhino', 'jumped', 'over', 'the', 'extremely', 'lazy', 'fox']\n",
      "[3, 5, 5, 5, 6, 4, 3, 9, 4, 3]\n"
     ]
    }
   ],
   "source": [
    "#Write code to create a list of word lengths for the words in original_str using the accumulation pattern and assign the answer to a variable num_words_list. \n",
    "#(You should use the len function).\n",
    "\n",
    "original_str = \"The quick brown rhino jumped over the extremely lazy fox\"\n",
    "original_str = original_str.split(\" \")\n",
    "print(original_str)\n",
    "num_words_list = []\n",
    "\n",
    "for word in original_str:\n",
    "    x = len(word)\n",
    "    num_words_list.append(x)\n",
    "print(num_words_list)"
   ]
  },
  {
   "cell_type": "code",
   "execution_count": 10,
   "metadata": {},
   "outputs": [
    {
     "name": "stdout",
     "output_type": "stream",
     "text": [
      "bbbbbbb\n"
     ]
    }
   ],
   "source": [
    "#Create an empty string and assign it to the variable lett. \n",
    "#Then using range, write code such that when your code is run, lett has 7 b’s (\"bbbbbbb\").\n",
    "lett = \"\"\n",
    "\n",
    "for i in range(7):\n",
    "    lett = lett + \"b\"\n",
    "    #print(i)\n",
    "print(lett)   "
   ]
  },
  {
   "cell_type": "code",
   "execution_count": 11,
   "metadata": {},
   "outputs": [],
   "source": [
    "#Write a program that uses the turtle module and a for loop to draw something. It doesn’t have to be complicated,\n",
    "\n",
    "import turtle\n",
    "wn = turtle.Screen()\n",
    "wn.bgcolor(\"teal\")\n",
    "tess = turtle.Turtle()\n",
    "tess.color(\"grey\")\n",
    "tess.shape(\"turtle\")\n",
    "\n",
    "dist = 2\n",
    "tess.up()                     # this is new\n",
    "for _ in range(69):    # start with size = 5 and grow by 2\n",
    "    tess.stamp()                # leave an impression on the canvas\n",
    "    tess.forward(dist)          # move tess along\n",
    "    tess.right(24)              # and turn her\n",
    "    dist = dist + 2"
   ]
  },
  {
   "cell_type": "code",
   "execution_count": 12,
   "metadata": {},
   "outputs": [],
   "source": [
    "######################################################################################################################\n",
    "#\n",
    "#\n",
    "#\n",
    "#Week 3\n",
    "#\n",
    "#\n",
    "#\n",
    "#######################################################################################################################"
   ]
  },
  {
   "cell_type": "code",
   "execution_count": 13,
   "metadata": {},
   "outputs": [
    {
     "name": "stdout",
     "output_type": "stream",
     "text": [
      "5\n"
     ]
    }
   ],
   "source": [
    "#rainfall_mi is a string that contains the average number of inches of rainfall in Michigan for every month (in inches) with every month separated by a comma. \n",
    "#Write code to compute the number of months that have more than 3 inches of rainfall. \n",
    "#Store the result in the variable num_rainy_months. In other words, count the number of items with values > 3.0.\n",
    "\n",
    "rainfall_mi = \"1.65, 1.46, 2.05, 3.03, 3.35, 3.46, 2.83, 3.23, 3.5, 2.52, 2.8, 1.85\"\n",
    "rainfall_mi = rainfall_mi.split(\",\")\n",
    "num_rainy_months = 0\n",
    "\n",
    "for rain in rainfall_mi:\n",
    "    rainfall = float(rain)\n",
    "    if rainfall > 3.0:\n",
    "        num_rainy_months = num_rainy_months + 1\n",
    "print(num_rainy_months)"
   ]
  },
  {
   "cell_type": "code",
   "execution_count": 14,
   "metadata": {},
   "outputs": [
    {
     "name": "stdout",
     "output_type": "stream",
     "text": [
      "2\n"
     ]
    }
   ],
   "source": [
    "#The variable sentence stores a string. Write code to determine how many words in sentence start and end with the same letter, \n",
    "#including one-letter words. Store the result in the variable same_letter_count.\n",
    "\n",
    "sentence = \"students flock to the arb for a variety of outdoor activities such as jogging and picnicking\"\n",
    "\n",
    "# Write your code here.\n",
    "same_letter_count = 0\n",
    "sentence = sentence.split()\n",
    "\n",
    "for word in sentence:\n",
    "    if word[0] == word[-1]:\n",
    "        same_letter_count += 1\n",
    "        \n",
    "print(same_letter_count)  "
   ]
  },
  {
   "cell_type": "code",
   "execution_count": 15,
   "metadata": {},
   "outputs": [
    {
     "name": "stdout",
     "output_type": "stream",
     "text": [
      "4\n"
     ]
    }
   ],
   "source": [
    "#Write code to count the number of strings in list items that have the character w in it. Assign that number to the variable acc_num.\n",
    "\n",
    "items = [\"whirring\", \"wow!\", \"calendar\", \"wry\", \"glass\", \"\", \"llama\",\"tumultuous\",\"owing\"]\n",
    "\n",
    "acc_num = 0\n",
    "\n",
    "for item in items:\n",
    "    if \"w\" in item:\n",
    "        acc_num += 1\n",
    "        \n",
    "print(acc_num) "
   ]
  },
  {
   "cell_type": "code",
   "execution_count": 16,
   "metadata": {},
   "outputs": [
    {
     "name": "stdout",
     "output_type": "stream",
     "text": [
      "14\n"
     ]
    }
   ],
   "source": [
    "#Write code that counts the number of words in sentence that contain either an “a” or an “e”. \n",
    "#Store the result in the variable num_a_or_e.\n",
    "\n",
    "sentence = \"python is a high level general purpose programming language that can be applied to many different classes of problems.\"\n",
    "sentence = sentence.split(\" \")\n",
    "\n",
    "num_a_or_e = 0\n",
    "\n",
    "for word in sentence:\n",
    "    if \"a\" in word:\n",
    "        num_a_or_e +=1\n",
    "    elif \"e\" in word:\n",
    "        num_a_or_e +=1       \n",
    "print(num_a_or_e)"
   ]
  },
  {
   "cell_type": "code",
   "execution_count": 17,
   "metadata": {},
   "outputs": [
    {
     "name": "stdout",
     "output_type": "stream",
     "text": [
      "32\n"
     ]
    }
   ],
   "source": [
    "#Write code that will count the number of vowels in the sentence s and assign the result to the variable num_vowels. For this problem, vowels are only a, e, i, o, and u. \n",
    "#Hint: use the in operator with vowels.\n",
    "\n",
    "s = \"singing in the rain and playing in the rain are two entirely different situations but both can be fun\"\n",
    "vowels = ['a','e','i','o','u']\n",
    "num_vowels = 0\n",
    "\n",
    "for letter in s:\n",
    "    if letter in vowels:\n",
    "        num_vowels += 1\n",
    "print(num_vowels)"
   ]
  },
  {
   "cell_type": "code",
   "execution_count": 18,
   "metadata": {},
   "outputs": [],
   "source": [
    "######################################################################################################################\n",
    "#\n",
    "#\n",
    "#\n",
    "# Week 4\n",
    "#\n",
    "#\n",
    "#\n",
    "######################################################################################################################"
   ]
  },
  {
   "cell_type": "code",
   "execution_count": 19,
   "metadata": {},
   "outputs": [
    {
     "name": "stdout",
     "output_type": "stream",
     "text": [
      "['I', ' ', 'l', 'o', 'v', 'e', ' ', 'p', 'y', 't', 'h', 'o', 'n']\n"
     ]
    }
   ],
   "source": [
    "#Currently there is a string called str1. Write code to create a list called chars which should contain the characters from str1. \n",
    "#Each character in str1 should be its own element in the list chars.\n",
    "\n",
    "str1 = \"I love python\"\n",
    "# HINT: what's the accumulator? That should go here.\n",
    "chars = []\n",
    "for char in str1:\n",
    "    chars.append(char)\n",
    "print(chars) "
   ]
  },
  {
   "cell_type": "code",
   "execution_count": 20,
   "metadata": {},
   "outputs": [],
   "source": [
    "#For each character in the string saved in ael, append that character to a list that should be saved in a variable app.\n",
    "\n",
    "ael = \"python!\"\n",
    "app = []\n",
    "\n",
    "for char in ael:\n",
    "    app.append(char)"
   ]
  },
  {
   "cell_type": "code",
   "execution_count": 21,
   "metadata": {},
   "outputs": [
    {
     "name": "stdout",
     "output_type": "stream",
     "text": [
      "['ended', 'worked', 'played', 'started', 'walked', 'looked', 'opened', 'rained', 'learned', 'cleaned']\n"
     ]
    }
   ],
   "source": [
    "#For each string in wrds, add ‘ed’ to the end of the word (to make the word past tense). \n",
    "#Save these past tense words to a list called past_wrds.\n",
    "\n",
    "wrds = [\"end\", 'work', \"play\", \"start\", \"walk\", \"look\", \"open\", \"rain\", \"learn\", \"clean\"]\n",
    "past_wrds = []\n",
    "\n",
    "for wrd in wrds:\n",
    "    past = wrd + \"ed\"\n",
    "    past_wrds.append(past)\n",
    "print(past_wrds)   "
   ]
  },
  {
   "cell_type": "code",
   "execution_count": 22,
   "metadata": {},
   "outputs": [],
   "source": [
    "######################################################################################################################\n",
    "#\n",
    "#\n",
    "#\n",
    "# Python Basics Final Assignment\n",
    "#\n",
    "#\n",
    "#\n",
    "######################################################################################################################"
   ]
  },
  {
   "cell_type": "code",
   "execution_count": 23,
   "metadata": {},
   "outputs": [
    {
     "name": "stdout",
     "output_type": "stream",
     "text": [
      "10\n"
     ]
    }
   ],
   "source": [
    "#Below are a set of scores that students have received in the past semester. \n",
    "#Write code to determine how many are 90 or above and assign that result to the value a_scores.\n",
    "\n",
    "scores = \"67 80 90 78 93 20 79 89 96 97 92 88 79 68 58 90 98 100 79 74 83 88 80 86 85 70 90 100\"\n",
    "scores = scores.split()\n",
    "a_scores = 0\n",
    "\n",
    "for score in scores:\n",
    "    if int(score) >= 90:\n",
    "        a_scores += 1\n",
    "print(a_scores)  "
   ]
  },
  {
   "cell_type": "code",
   "execution_count": 24,
   "metadata": {},
   "outputs": [
    {
     "name": "stdout",
     "output_type": "stream",
     "text": [
      "OHSE\n"
     ]
    }
   ],
   "source": [
    "#Write code that uses the string stored in org and creates an acronym which is assigned to the variable acro. \n",
    "#Only the first letter of each word should be used, each letter in the acronym should be a capital letter, \n",
    "#and there should be nothing to separate the letters of the acronym. \n",
    "#Words that should not be included in the acronym are stored in the list stopwords. \n",
    "#For example, if org was assigned the string “hello to world” then the resulting acronym should be “HW”.\n",
    "\n",
    "stopwords = ['to', 'a', 'for', 'by', 'an', 'am', 'the', 'so', 'it', 'and', \"The\"]\n",
    "org = \"The organization for health, safety, and education\"\n",
    "org = org.split()\n",
    "\n",
    "\n",
    "acro = \"\"\n",
    "\n",
    "for word in org:\n",
    "    if word not in stopwords:\n",
    "        a = word[0]\n",
    "        a = a.upper()\n",
    "        acro = acro + a\n",
    "print(acro) "
   ]
  },
  {
   "cell_type": "code",
   "execution_count": 25,
   "metadata": {},
   "outputs": [
    {
     "name": "stdout",
     "output_type": "stream",
     "text": [
      "WA. EA. AI. AR. VI\n"
     ]
    }
   ],
   "source": [
    "#Write code that uses the string stored in sent and creates an acronym which is assigned to the variable acro. \n",
    "#The first two letters of each word should be used, each letter in the acronym should be a capital letter,\n",
    "#and each element of the acronym should be separated by a “. ” (dot and space). \n",
    "#Words that should not be included in the acronym are stored in the list stopwords. \n",
    "#For example, if sent was assigned the string “height and ewok wonder” then the resulting acronym should be “HE. EW. WO”.\n",
    "\n",
    "stopwords = ['to', 'a', 'for', 'by', 'an', 'am', 'the', 'so', 'it', 'and', 'The']\n",
    "sent = \"The water earth and air are vital\"\n",
    "sent = sent.split()\n",
    "\n",
    "acro = \"\"\n",
    "\n",
    "#for word in sent:\n",
    "#    if word not in stopwords:\n",
    "#        a = word[0:2]\n",
    "#        a = a.upper()\n",
    "#        acro = acro + a\n",
    "#        if a != sent[-1]:\n",
    "#            acro += \". \"\n",
    "#print(acro)   \n",
    "\n",
    "acro = '. '.join(word[:2].upper() for word in sent if word not in stopwords)\n",
    "print(acro)"
   ]
  },
  {
   "cell_type": "code",
   "execution_count": 26,
   "metadata": {},
   "outputs": [
    {
     "name": "stdout",
     "output_type": "stream",
     "text": [
      "was I tac a ro rac a ti saw\n",
      "stanley yelnats\n"
     ]
    }
   ],
   "source": [
    "#A palindrome is a phrase that, if reversed, would read the exact same. \n",
    "#Write code that checks if p_phrase is a palindrome by reversing it and then checking if the reversed version is equal to the original. \n",
    "#Assign the reversed version of p_phrase to the variable r_phrase so that we can check your work.\n",
    "\n",
    "p_phrase = \"was it a car or a cat I saw\"\n",
    "r_phrase = \"was it a car or a cat I saw\"[::-1]\n",
    "print(r_phrase)\n",
    "\n",
    "#Just for fun\n",
    "p_holes = \"stanley yelnats\"\n",
    "r_holes = \"stanley yelnats\"[::-1]\n",
    "print(r_holes)"
   ]
  },
  {
   "cell_type": "code",
   "execution_count": 27,
   "metadata": {},
   "outputs": [
    {
     "name": "stdout",
     "output_type": "stream",
     "text": [
      "The store has 12 shoes, each for 29.99 USD.\n",
      "The store has 20 shirts, each for 9.99 USD.\n",
      "The store has 25 sweatpants, each for 15.00 USD.\n",
      "The store has 13 scarves, each for 7.75 USD.\n"
     ]
    }
   ],
   "source": [
    "#Provided is a list of data about a store’s inventory where each item in the list represents the name of an item, \n",
    "#how much is in stock, and how much it costs. \n",
    "#Print out each item in the list with the same formatting, using the .format method (not string concatenation). \n",
    "#For example, the first print statment should read The store has 12 shoes, each for 29.99 USD.\n",
    "\n",
    "inventory = [\"shoes, 12, 29.99\", \"shirts, 20, 9.99\", \"sweatpants, 25, 15.00\", \"scarves, 13, 7.75\"]\n",
    "\n",
    "for item in inventory:\n",
    "    item_desc, number, cost = item.split(\", \")\n",
    "    print(\"The store has {} {}, each for {} USD.\".format(number, item_desc, cost))"
   ]
  }
 ],
 "metadata": {
  "kernelspec": {
   "display_name": "Python 3",
   "language": "python",
   "name": "python3"
  },
  "language_info": {
   "codemirror_mode": {
    "name": "ipython",
    "version": 3
   },
   "file_extension": ".py",
   "mimetype": "text/x-python",
   "name": "python",
   "nbconvert_exporter": "python",
   "pygments_lexer": "ipython3",
   "version": "3.7.3"
  }
 },
 "nbformat": 4,
 "nbformat_minor": 2
}
